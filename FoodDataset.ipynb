{
 "cells": [
  {
   "cell_type": "markdown",
   "source": [
    "# The African food production dataset\n",
    "provided by the FAO website"
   ],
   "metadata": {
    "collapsed": false
   }
  },
  {
   "cell_type": "code",
   "execution_count": 1,
   "metadata": {
    "collapsed": true
   },
   "outputs": [],
   "source": [
    "import pandas as pd"
   ]
  },
  {
   "cell_type": "code",
   "execution_count": 2,
   "outputs": [],
   "source": [
    "df = pd.read_csv(\"FoodBalanceSheets_E_Africa_NOFLAG.csv\",encoding='latin-1')"
   ],
   "metadata": {
    "collapsed": false
   }
  },
  {
   "cell_type": "code",
   "execution_count": 3,
   "outputs": [
    {
     "data": {
      "text/plain": "Index(['Area Code', 'Area', 'Item Code', 'Item', 'Element Code', 'Element',\n       'Unit', 'Y2014', 'Y2015', 'Y2016', 'Y2017', 'Y2018'],\n      dtype='object')"
     },
     "execution_count": 3,
     "metadata": {},
     "output_type": "execute_result"
    }
   ],
   "source": [
    "df.columns"
   ],
   "metadata": {
    "collapsed": false
   }
  },
  {
   "cell_type": "code",
   "execution_count": 4,
   "outputs": [
    {
     "data": {
      "text/plain": "    Area Code     Area  Item Code              Item  Element Code  \\\n0           4  Algeria       2501        Population           511   \n1           4  Algeria       2501        Population          5301   \n2           4  Algeria       2901       Grand Total           664   \n3           4  Algeria       2901       Grand Total           674   \n4           4  Algeria       2901       Grand Total           684   \n..        ...      ...        ...               ...           ...   \n95          4  Algeria       2515  Rye and products           674   \n96          4  Algeria       2515  Rye and products           684   \n97          4  Algeria       2516              Oats          5511   \n98          4  Algeria       2516              Oats          5611   \n99          4  Algeria       2516              Oats          5072   \n\n                                   Element             Unit     Y2014  \\\n0            Total Population - Both sexes     1000 persons  38924.00   \n1                 Domestic supply quantity      1000 tonnes      0.00   \n2            Food supply (kcal/capita/day)  kcal/capita/day   3377.00   \n3   Protein supply quantity (g/capita/day)     g/capita/day     94.90   \n4       Fat supply quantity (g/capita/day)     g/capita/day     80.06   \n..                                     ...              ...       ...   \n95  Protein supply quantity (g/capita/day)     g/capita/day      0.00   \n96      Fat supply quantity (g/capita/day)     g/capita/day      0.00   \n97                              Production      1000 tonnes     57.00   \n98                         Import Quantity      1000 tonnes     13.00   \n99                         Stock Variation      1000 tonnes      0.00   \n\n       Y2015     Y2016     Y2017     Y2018  \n0   39728.00  40551.00  41389.00  42228.00  \n1       0.00      0.00      0.00      0.00  \n2    3379.00   3372.00   3341.00   3322.00  \n3      94.35     94.72     92.82     91.83  \n4      79.36     77.40     80.19     77.28  \n..       ...       ...       ...       ...  \n95      0.00      0.00      0.00      0.00  \n96      0.00      0.00      0.00      0.00  \n97     68.00     72.00     64.00    118.00  \n98     32.00     24.00      7.00      2.00  \n99      3.00      2.00     -1.00      2.00  \n\n[100 rows x 12 columns]",
      "text/html": "<div>\n<style scoped>\n    .dataframe tbody tr th:only-of-type {\n        vertical-align: middle;\n    }\n\n    .dataframe tbody tr th {\n        vertical-align: top;\n    }\n\n    .dataframe thead th {\n        text-align: right;\n    }\n</style>\n<table border=\"1\" class=\"dataframe\">\n  <thead>\n    <tr style=\"text-align: right;\">\n      <th></th>\n      <th>Area Code</th>\n      <th>Area</th>\n      <th>Item Code</th>\n      <th>Item</th>\n      <th>Element Code</th>\n      <th>Element</th>\n      <th>Unit</th>\n      <th>Y2014</th>\n      <th>Y2015</th>\n      <th>Y2016</th>\n      <th>Y2017</th>\n      <th>Y2018</th>\n    </tr>\n  </thead>\n  <tbody>\n    <tr>\n      <th>0</th>\n      <td>4</td>\n      <td>Algeria</td>\n      <td>2501</td>\n      <td>Population</td>\n      <td>511</td>\n      <td>Total Population - Both sexes</td>\n      <td>1000 persons</td>\n      <td>38924.00</td>\n      <td>39728.00</td>\n      <td>40551.00</td>\n      <td>41389.00</td>\n      <td>42228.00</td>\n    </tr>\n    <tr>\n      <th>1</th>\n      <td>4</td>\n      <td>Algeria</td>\n      <td>2501</td>\n      <td>Population</td>\n      <td>5301</td>\n      <td>Domestic supply quantity</td>\n      <td>1000 tonnes</td>\n      <td>0.00</td>\n      <td>0.00</td>\n      <td>0.00</td>\n      <td>0.00</td>\n      <td>0.00</td>\n    </tr>\n    <tr>\n      <th>2</th>\n      <td>4</td>\n      <td>Algeria</td>\n      <td>2901</td>\n      <td>Grand Total</td>\n      <td>664</td>\n      <td>Food supply (kcal/capita/day)</td>\n      <td>kcal/capita/day</td>\n      <td>3377.00</td>\n      <td>3379.00</td>\n      <td>3372.00</td>\n      <td>3341.00</td>\n      <td>3322.00</td>\n    </tr>\n    <tr>\n      <th>3</th>\n      <td>4</td>\n      <td>Algeria</td>\n      <td>2901</td>\n      <td>Grand Total</td>\n      <td>674</td>\n      <td>Protein supply quantity (g/capita/day)</td>\n      <td>g/capita/day</td>\n      <td>94.90</td>\n      <td>94.35</td>\n      <td>94.72</td>\n      <td>92.82</td>\n      <td>91.83</td>\n    </tr>\n    <tr>\n      <th>4</th>\n      <td>4</td>\n      <td>Algeria</td>\n      <td>2901</td>\n      <td>Grand Total</td>\n      <td>684</td>\n      <td>Fat supply quantity (g/capita/day)</td>\n      <td>g/capita/day</td>\n      <td>80.06</td>\n      <td>79.36</td>\n      <td>77.40</td>\n      <td>80.19</td>\n      <td>77.28</td>\n    </tr>\n    <tr>\n      <th>...</th>\n      <td>...</td>\n      <td>...</td>\n      <td>...</td>\n      <td>...</td>\n      <td>...</td>\n      <td>...</td>\n      <td>...</td>\n      <td>...</td>\n      <td>...</td>\n      <td>...</td>\n      <td>...</td>\n      <td>...</td>\n    </tr>\n    <tr>\n      <th>95</th>\n      <td>4</td>\n      <td>Algeria</td>\n      <td>2515</td>\n      <td>Rye and products</td>\n      <td>674</td>\n      <td>Protein supply quantity (g/capita/day)</td>\n      <td>g/capita/day</td>\n      <td>0.00</td>\n      <td>0.00</td>\n      <td>0.00</td>\n      <td>0.00</td>\n      <td>0.00</td>\n    </tr>\n    <tr>\n      <th>96</th>\n      <td>4</td>\n      <td>Algeria</td>\n      <td>2515</td>\n      <td>Rye and products</td>\n      <td>684</td>\n      <td>Fat supply quantity (g/capita/day)</td>\n      <td>g/capita/day</td>\n      <td>0.00</td>\n      <td>0.00</td>\n      <td>0.00</td>\n      <td>0.00</td>\n      <td>0.00</td>\n    </tr>\n    <tr>\n      <th>97</th>\n      <td>4</td>\n      <td>Algeria</td>\n      <td>2516</td>\n      <td>Oats</td>\n      <td>5511</td>\n      <td>Production</td>\n      <td>1000 tonnes</td>\n      <td>57.00</td>\n      <td>68.00</td>\n      <td>72.00</td>\n      <td>64.00</td>\n      <td>118.00</td>\n    </tr>\n    <tr>\n      <th>98</th>\n      <td>4</td>\n      <td>Algeria</td>\n      <td>2516</td>\n      <td>Oats</td>\n      <td>5611</td>\n      <td>Import Quantity</td>\n      <td>1000 tonnes</td>\n      <td>13.00</td>\n      <td>32.00</td>\n      <td>24.00</td>\n      <td>7.00</td>\n      <td>2.00</td>\n    </tr>\n    <tr>\n      <th>99</th>\n      <td>4</td>\n      <td>Algeria</td>\n      <td>2516</td>\n      <td>Oats</td>\n      <td>5072</td>\n      <td>Stock Variation</td>\n      <td>1000 tonnes</td>\n      <td>0.00</td>\n      <td>3.00</td>\n      <td>2.00</td>\n      <td>-1.00</td>\n      <td>2.00</td>\n    </tr>\n  </tbody>\n</table>\n<p>100 rows × 12 columns</p>\n</div>"
     },
     "metadata": {},
     "output_type": "display_data"
    },
    {
     "data": {
      "text/plain": "(60943, 12)"
     },
     "metadata": {},
     "output_type": "display_data"
    }
   ],
   "source": [
    "display(df.head(100))\n",
    "display(df.shape)"
   ],
   "metadata": {
    "collapsed": false
   }
  },
  {
   "cell_type": "markdown",
   "source": [
    "## Q2\n",
    "What is the mean and standard deviation across the whole dataset for the year 2017 to 2 decimal places?"
   ],
   "metadata": {
    "collapsed": false
   }
  },
  {
   "cell_type": "code",
   "execution_count": 5,
   "outputs": [
    {
     "data": {
      "text/plain": "          Area Code     Item Code  Element Code          Y2014          Y2015  \\\ncount  60943.000000  60943.000000  60943.000000   59354.000000   59395.000000   \nmean     134.265576   2687.176706   3814.856456     134.196282     135.235966   \nstd       72.605709    146.055739   2212.007033    1567.663696    1603.403984   \nmin        4.000000   2501.000000    511.000000   -1796.000000   -3161.000000   \n25%       74.000000   2562.000000    684.000000       0.000000       0.000000   \n50%      136.000000   2630.000000   5142.000000       0.090000       0.080000   \n75%      195.000000   2775.000000   5511.000000       8.340000       8.460000   \nmax      276.000000   2961.000000   5911.000000  176405.000000  181137.000000   \n\n               Y2016          Y2017          Y2018  \ncount   59408.000000   59437.000000   59507.000000  \nmean      136.555222     140.917765     143.758381  \nstd      1640.007194    1671.862359    1710.782658  \nmin     -3225.000000   -1582.000000   -3396.000000  \n25%         0.000000       0.000000       0.000000  \n50%         0.080000       0.100000       0.070000  \n75%         8.430000       9.000000       9.000000  \nmax    185960.000000  190873.000000  195875.000000  ",
      "text/html": "<div>\n<style scoped>\n    .dataframe tbody tr th:only-of-type {\n        vertical-align: middle;\n    }\n\n    .dataframe tbody tr th {\n        vertical-align: top;\n    }\n\n    .dataframe thead th {\n        text-align: right;\n    }\n</style>\n<table border=\"1\" class=\"dataframe\">\n  <thead>\n    <tr style=\"text-align: right;\">\n      <th></th>\n      <th>Area Code</th>\n      <th>Item Code</th>\n      <th>Element Code</th>\n      <th>Y2014</th>\n      <th>Y2015</th>\n      <th>Y2016</th>\n      <th>Y2017</th>\n      <th>Y2018</th>\n    </tr>\n  </thead>\n  <tbody>\n    <tr>\n      <th>count</th>\n      <td>60943.000000</td>\n      <td>60943.000000</td>\n      <td>60943.000000</td>\n      <td>59354.000000</td>\n      <td>59395.000000</td>\n      <td>59408.000000</td>\n      <td>59437.000000</td>\n      <td>59507.000000</td>\n    </tr>\n    <tr>\n      <th>mean</th>\n      <td>134.265576</td>\n      <td>2687.176706</td>\n      <td>3814.856456</td>\n      <td>134.196282</td>\n      <td>135.235966</td>\n      <td>136.555222</td>\n      <td>140.917765</td>\n      <td>143.758381</td>\n    </tr>\n    <tr>\n      <th>std</th>\n      <td>72.605709</td>\n      <td>146.055739</td>\n      <td>2212.007033</td>\n      <td>1567.663696</td>\n      <td>1603.403984</td>\n      <td>1640.007194</td>\n      <td>1671.862359</td>\n      <td>1710.782658</td>\n    </tr>\n    <tr>\n      <th>min</th>\n      <td>4.000000</td>\n      <td>2501.000000</td>\n      <td>511.000000</td>\n      <td>-1796.000000</td>\n      <td>-3161.000000</td>\n      <td>-3225.000000</td>\n      <td>-1582.000000</td>\n      <td>-3396.000000</td>\n    </tr>\n    <tr>\n      <th>25%</th>\n      <td>74.000000</td>\n      <td>2562.000000</td>\n      <td>684.000000</td>\n      <td>0.000000</td>\n      <td>0.000000</td>\n      <td>0.000000</td>\n      <td>0.000000</td>\n      <td>0.000000</td>\n    </tr>\n    <tr>\n      <th>50%</th>\n      <td>136.000000</td>\n      <td>2630.000000</td>\n      <td>5142.000000</td>\n      <td>0.090000</td>\n      <td>0.080000</td>\n      <td>0.080000</td>\n      <td>0.100000</td>\n      <td>0.070000</td>\n    </tr>\n    <tr>\n      <th>75%</th>\n      <td>195.000000</td>\n      <td>2775.000000</td>\n      <td>5511.000000</td>\n      <td>8.340000</td>\n      <td>8.460000</td>\n      <td>8.430000</td>\n      <td>9.000000</td>\n      <td>9.000000</td>\n    </tr>\n    <tr>\n      <th>max</th>\n      <td>276.000000</td>\n      <td>2961.000000</td>\n      <td>5911.000000</td>\n      <td>176405.000000</td>\n      <td>181137.000000</td>\n      <td>185960.000000</td>\n      <td>190873.000000</td>\n      <td>195875.000000</td>\n    </tr>\n  </tbody>\n</table>\n</div>"
     },
     "execution_count": 5,
     "metadata": {},
     "output_type": "execute_result"
    }
   ],
   "source": [
    "df.describe()"
   ],
   "metadata": {
    "collapsed": false
   }
  },
  {
   "cell_type": "markdown",
   "source": [
    "## Q3\n",
    "What is the total Protein supply quantity in Madagascar in 2015?"
   ],
   "metadata": {
    "collapsed": false
   }
  },
  {
   "cell_type": "code",
   "execution_count": 6,
   "outputs": [
    {
     "data": {
      "text/plain": "173.04999999999998"
     },
     "execution_count": 6,
     "metadata": {},
     "output_type": "execute_result"
    }
   ],
   "source": [
    "df[(df['Area'] == 'Madagascar') & (df['Element'] == 'Protein supply quantity (g/capita/day)')]['Y2015'].sum()\n",
    "# df.loc[df['Area'] == 'Madagascar','Y2015'].sum()"
   ],
   "metadata": {
    "collapsed": false
   }
  },
  {
   "cell_type": "markdown",
   "source": [],
   "metadata": {
    "collapsed": false
   }
  },
  {
   "cell_type": "code",
   "execution_count": 7,
   "outputs": [
    {
     "data": {
      "text/plain": "Element\nDomestic supply quantity                  31214.98\nExport Quantity                             494.75\nFat supply quantity (g/capita/day)           91.85\nFeed                                       2070.22\nFood                                      21120.65\nFood supply (kcal/capita/day)              7685.00\nFood supply quantity (kg/capita/yr)         871.59\nImport Quantity                            1721.80\nLosses                                     2176.00\nOther uses (non-food)                      3957.12\nProcessing                                 1803.00\nProduction                                29482.89\nProtein supply quantity (g/capita/day)      173.05\nResiduals                                  -616.00\nSeed                                        699.00\nStock Variation                            -505.00\nTotal Population - Both sexes             24234.00\nName: Y2015, dtype: float64"
     },
     "execution_count": 7,
     "metadata": {},
     "output_type": "execute_result"
    }
   ],
   "source": [
    "mad = df.groupby(['Area','Element'])['Y2015'].sum()\n",
    "mad.loc['Madagascar',:]"
   ],
   "metadata": {
    "collapsed": false
   }
  },
  {
   "cell_type": "markdown",
   "source": [
    "## Q4\n",
    "Select columns ‘Y2017’ and ‘Area’, Perform a groupby operation on ‘Area’.  Which of these Areas had the 7th lowest sum in 2017?"
   ],
   "metadata": {
    "collapsed": false
   }
  },
  {
   "cell_type": "code",
   "execution_count": 8,
   "outputs": [
    {
     "name": "stdout",
     "output_type": "stream",
     "text": [
      "                           Area       Y2017\n",
      "0                Sudan (former)        0.00\n",
      "1                  Ethiopia PDR        0.00\n",
      "2                       Comoros       59.84\n",
      "3                    Seychelles      442.34\n",
      "4         Sao Tome and Principe    12662.63\n",
      "5                    Cabo Verde    14650.74\n",
      "6                 Guinea-Bissau    19102.77\n",
      "7                       Lesotho    21267.96\n",
      "8                      Botswana    22101.30\n",
      "9                      Djibouti    22729.91\n",
      "10                       Gambia    23154.18\n",
      "11                        Gabon    27979.64\n",
      "12                      Liberia    29342.20\n",
      "13                      Namibia    29874.89\n",
      "14     Central African Republic    29937.00\n",
      "15                        Congo    41181.68\n",
      "16                         Togo    49841.88\n",
      "17                    Mauritius    51114.83\n",
      "18                     Eswatini    54343.33\n",
      "19                 Sierra Leone    55311.33\n",
      "20                         Chad    71594.68\n",
      "21                       Rwanda    73663.69\n",
      "22                     Zimbabwe    75919.34\n",
      "23                      Senegal    95681.15\n",
      "24                       Guinea    98138.87\n",
      "25                 Burkina Faso   101855.07\n",
      "26                       Zambia   103223.77\n",
      "27                      Tunisia   124167.20\n",
      "28                        Benin   124771.22\n",
      "29                        Niger   126707.58\n",
      "30                   Madagascar   131197.73\n",
      "31                         Mali   149928.33\n",
      "32                   Mauritania   156665.46\n",
      "33                   Mozambique   161407.98\n",
      "34                       Malawi   181098.71\n",
      "35                       Uganda   213950.38\n",
      "36                Côte d'Ivoire   224599.01\n",
      "37                       Angola   229159.57\n",
      "38                     Cameroon   232030.43\n",
      "39                        Sudan   239931.92\n",
      "40                        Kenya   264660.66\n",
      "41  United Republic of Tanzania   322616.85\n",
      "42                      Algeria   325644.27\n",
      "43                        Ghana   337599.06\n",
      "44                      Morocco   388495.36\n",
      "45                     Ethiopia   448683.76\n",
      "46                 South Africa   517590.54\n",
      "47                        Egypt   866379.92\n",
      "48                      Nigeria  1483268.23\n"
     ]
    }
   ],
   "source": [
    "print(df.groupby('Area')['Y2017'].sum().sort_values().reset_index())"
   ],
   "metadata": {
    "collapsed": false
   }
  },
  {
   "cell_type": "markdown",
   "source": [
    "## Q6\n",
    " What is the total number and percentage of missing data in 2014 to 3 decimal places?"
   ],
   "metadata": {
    "collapsed": false
   }
  },
  {
   "cell_type": "code",
   "execution_count": 9,
   "outputs": [
    {
     "name": "stdout",
     "output_type": "stream",
     "text": [
      "Total number of missing data in 2014 is 1589\n",
      "Percentage of missing data in 2014 is 0.026\n"
     ]
    }
   ],
   "source": [
    "nan_2014 = df['Y2014'].isna().sum()\n",
    "print(f'Total number of missing data in 2014 is {nan_2014}')\n",
    "perc_2014 = (nan_2014/len(df)).round(3)\n",
    "print(f'Percentage of missing data in 2014 is {perc_2014}')"
   ],
   "metadata": {
    "collapsed": false
   }
  },
  {
   "cell_type": "markdown",
   "source": [
    "## Q9\n",
    " Select columns ‘Y2017’ and ‘Area’, Perform a groupby operation on ‘Area’.  Which of these Areas had the highest sum in 2017?"
   ],
   "metadata": {
    "collapsed": false
   }
  },
  {
   "cell_type": "code",
   "execution_count": 10,
   "outputs": [
    {
     "name": "stdout",
     "output_type": "stream",
     "text": [
      "Area\n",
      "Nigeria                        1483268.23\n",
      "Egypt                           866379.92\n",
      "South Africa                    517590.54\n",
      "Ethiopia                        448683.76\n",
      "Morocco                         388495.36\n",
      "Ghana                           337599.06\n",
      "Algeria                         325644.27\n",
      "United Republic of Tanzania     322616.85\n",
      "Kenya                           264660.66\n",
      "Sudan                           239931.92\n",
      "Cameroon                        232030.43\n",
      "Angola                          229159.57\n",
      "Côte d'Ivoire                   224599.01\n",
      "Uganda                          213950.38\n",
      "Malawi                          181098.71\n",
      "Mozambique                      161407.98\n",
      "Mauritania                      156665.46\n",
      "Mali                            149928.33\n",
      "Madagascar                      131197.73\n",
      "Niger                           126707.58\n",
      "Benin                           124771.22\n",
      "Tunisia                         124167.20\n",
      "Zambia                          103223.77\n",
      "Burkina Faso                    101855.07\n",
      "Guinea                           98138.87\n",
      "Senegal                          95681.15\n",
      "Zimbabwe                         75919.34\n",
      "Rwanda                           73663.69\n",
      "Chad                             71594.68\n",
      "Sierra Leone                     55311.33\n",
      "Eswatini                         54343.33\n",
      "Mauritius                        51114.83\n",
      "Togo                             49841.88\n",
      "Congo                            41181.68\n",
      "Central African Republic         29937.00\n",
      "Namibia                          29874.89\n",
      "Liberia                          29342.20\n",
      "Gabon                            27979.64\n",
      "Gambia                           23154.18\n",
      "Djibouti                         22729.91\n",
      "Botswana                         22101.30\n",
      "Lesotho                          21267.96\n",
      "Guinea-Bissau                    19102.77\n",
      "Cabo Verde                       14650.74\n",
      "Sao Tome and Principe            12662.63\n",
      "Seychelles                         442.34\n",
      "Comoros                             59.84\n",
      "Sudan (former)                       0.00\n",
      "Ethiopia PDR                         0.00\n",
      "Name: Y2017, dtype: float64\n"
     ]
    }
   ],
   "source": [
    "high_sum_2017 = df.groupby('Area')['Y2017'].sum().sort_values(ascending=False)\n",
    "print(high_sum_2017)"
   ],
   "metadata": {
    "collapsed": false
   }
  },
  {
   "cell_type": "markdown",
   "source": [
    "## Q11\n",
    " Perform a groupby operation on ‘Element’.  What year has the highest sum of Stock Variation?"
   ],
   "metadata": {
    "collapsed": false
   }
  },
  {
   "cell_type": "code",
   "execution_count": 11,
   "outputs": [
    {
     "name": "stdout",
     "output_type": "stream",
     "text": [
      "Y2014    58749.83\n",
      "Y2017    54316.91\n",
      "Y2015    34910.99\n",
      "Y2016    33140.12\n",
      "Name: Stock Variation, dtype: float64\n"
     ]
    }
   ],
   "source": [
    "highest_stock = df.groupby('Element')[['Y2014','Y2015','Y2016','Y2017']].sum().sort_values(by=['Y2014','Y2015','Y2016',\n",
    "                                                                                               'Y2017'],ascending=False)\n",
    "print(highest_stock.loc['Stock Variation',:].sort_values(ascending=False))"
   ],
   "metadata": {
    "collapsed": false
   }
  },
  {
   "cell_type": "markdown",
   "source": [
    "## Q13\n",
    "What is the total number of unique countries in the dataset?"
   ],
   "metadata": {
    "collapsed": false
   }
  },
  {
   "cell_type": "code",
   "execution_count": 12,
   "outputs": [
    {
     "name": "stdout",
     "output_type": "stream",
     "text": [
      "Total unique countries is 49\n"
     ]
    }
   ],
   "source": [
    "unique = len(df['Area'].unique())\n",
    "print(f'Total unique countries is {unique}')\n"
   ],
   "metadata": {
    "collapsed": false
   }
  },
  {
   "cell_type": "markdown",
   "source": [
    "## Q16\n",
    " Which year had the least correlation with ‘Element Code’?"
   ],
   "metadata": {
    "collapsed": false
   }
  },
  {
   "cell_type": "code",
   "execution_count": 13,
   "outputs": [
    {
     "name": "stderr",
     "output_type": "stream",
     "text": [
      "C:\\Users\\user\\AppData\\Local\\Temp\\ipykernel_13964\\3755532404.py:1: FutureWarning: The default value of numeric_only in DataFrame.corr is deprecated. In a future version, it will default to False. Select only valid columns or specify the value of numeric_only to silence this warning.\n",
      "  df.corr().loc['Element Code']\n"
     ]
    },
    {
     "data": {
      "text/plain": "Area Code      -0.000209\nItem Code      -0.024683\nElement Code    1.000000\nY2014           0.024457\nY2015           0.023889\nY2016           0.023444\nY2017           0.024254\nY2018           0.024279\nName: Element Code, dtype: float64"
     },
     "execution_count": 13,
     "metadata": {},
     "output_type": "execute_result"
    }
   ],
   "source": [
    "df.corr().loc['Element Code']"
   ],
   "metadata": {
    "collapsed": false
   }
  },
  {
   "cell_type": "markdown",
   "source": [
    "## Q17\n",
    " Perform a groupby operation on ‘Element’.  What is the total number of the sum of Processing in 2017?"
   ],
   "metadata": {
    "collapsed": false
   }
  },
  {
   "cell_type": "code",
   "execution_count": 14,
   "outputs": [
    {
     "name": "stdout",
     "output_type": "stream",
     "text": [
      "Total number of Processing in 2017 is 292836.0\n"
     ]
    },
    {
     "name": "stderr",
     "output_type": "stream",
     "text": [
      "C:\\Users\\user\\AppData\\Local\\Temp\\ipykernel_13964\\630075269.py:1: FutureWarning: The default value of numeric_only in DataFrameGroupBy.sum is deprecated. In a future version, numeric_only will default to False. Either specify numeric_only or select only columns which should be valid for the function.\n",
      "  proc_2017 =df.groupby('Element').sum().loc['Processing','Y2017']\n"
     ]
    }
   ],
   "source": [
    "proc_2017 =df.groupby('Element').sum().loc['Processing','Y2017']\n",
    "print(f'Total number of Processing in 2017 is {proc_2017}')"
   ],
   "metadata": {
    "collapsed": false
   }
  },
  {
   "cell_type": "markdown",
   "source": [
    "## Q20\n",
    "\n",
    "What is the total sum of Wine produced in 2015 and 2018 respectively?\n",
    "\n",
    "Hint:\n",
    "\n",
    "Perform a groupby sum aggregation on ‘Item’"
   ],
   "metadata": {
    "collapsed": false
   }
  },
  {
   "cell_type": "code",
   "execution_count": 15,
   "outputs": [
    {
     "name": "stdout",
     "output_type": "stream",
     "text": [
      "Y2015    4251.81\n",
      "Y2018    4039.32\n",
      "Name: Wine, dtype: float64\n"
     ]
    }
   ],
   "source": [
    "wine = df.groupby('Item')[['Y2015','Y2018']].sum().loc['Wine']\n",
    "print(wine)"
   ],
   "metadata": {
    "collapsed": false
   }
  }
 ],
 "metadata": {
  "kernelspec": {
   "display_name": "Python 3",
   "language": "python",
   "name": "python3"
  },
  "language_info": {
   "codemirror_mode": {
    "name": "ipython",
    "version": 2
   },
   "file_extension": ".py",
   "mimetype": "text/x-python",
   "name": "python",
   "nbconvert_exporter": "python",
   "pygments_lexer": "ipython2",
   "version": "2.7.6"
  }
 },
 "nbformat": 4,
 "nbformat_minor": 0
}
